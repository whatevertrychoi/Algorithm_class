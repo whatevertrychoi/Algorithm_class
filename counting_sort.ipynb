{
 "cells": [
  {
   "cell_type": "code",
   "execution_count": 1,
   "id": "e959dec0-8991-4fd7-ba67-36765a8f76bf",
   "metadata": {},
   "outputs": [
    {
     "name": "stdout",
     "output_type": "stream",
     "text": [
      "[1, 2, 2, 3, 3, 4, 8]\n"
     ]
    }
   ],
   "source": [
    "def counting_sort(arr) :\n",
    "    max_val = max(arr)\n",
    "    count  = [0] * (max_val + 1)\n",
    "    for num in arr : \n",
    "        count[num] += 1\n",
    "    sorted_arr = []\n",
    "    for i in range(len(count)) :\n",
    "        sorted_arr.extend([i]*count[i])\n",
    "        \n",
    "    return sorted_arr\n",
    "\n",
    "arr = [4,2,2,8,3,3,1]\n",
    "print(counting_sort(arr))"
   ]
  },
  {
   "cell_type": "code",
   "execution_count": 6,
   "id": "c673ed27-060e-4a65-819f-10b2cbd504bd",
   "metadata": {},
   "outputs": [],
   "source": [
    "#max_value에거 최댓값을 찾아낸다. max_value -> 8 \n",
    "#count = [0] * (8 + 1) = [0,0,0,0,0,0,0,0,0,0]\n",
    "#for num in [4,2,2,8,3,3,1]\n",
    "#count[4] = count[4] + 1 => [0,0,0,0,1,0,0,0,0]\n",
    "#count[2] = count[2] + 1 => [0,0,1,0,1,0,0,0,0]\n",
    "#count[2] = count[2] + 1 => [0,0,2,0,1,0,0,0,0]\n",
    "#count[8] = count[8] + 1 => [0,0,2,0,1,0,0,0,1]\n",
    "#count[3] = count[3] + 1 => [0,0,2,1,1,0,0,0,1]\n",
    "#count[3] = count[3] + 1 => [0,0,2,2,1,0,0,0,1]\n",
    "#count[1] = count[1] + 1 => [0,1,2,2,1,0,0,0,1]\n",
    "#enumerate(count)는 (인덱스, 값)형태로 나온다.\n",
    "# num(index)(0) = 0 , freg(value)(0) = 0 \n",
    "#sorted_arr.extend([0]*0) = [0]\n",
    "# num(index)(1) = 1 , freg(value)(1) = 1\n",
    "#sorted_arr.extend([1]*1) = [0,1]\n",
    "# num(index)(2) = 2 , freg(value)(2) = 2\n",
    "#sorted_arr.extend([2]*2) = [0,1,2,2]\n",
    "# num(index)(3) = 3 , freg(value)(2) = 2 \n",
    "#sorted_arr.extend([3]*2) = [0,1,2,2,3,3]\n",
    "# num(index)(4) = 4 , freg(value)(1) = 1 \n",
    "#sorted_arr.extend([4]*1) = [0,1,2,2,3,3,4]\n",
    "# num(index)(5) = 5 , freg(value)(0) = 0 \n",
    "#sorted_arr.extend([5]*0) = [0,1,2,2,3,3,4]\n",
    "# num(index)(6) = 0 , freg(value)(0) = 0 \n",
    "#sorted_arr.extend([6]*0) = [0,1,2,2,3,3,4]\n",
    "# num(index)(7) = 0 , freg(value)(0) = 0 \n",
    "#sorted_arr.extend([7]*0) = [0,1,2,2,3,3,4,8]\n",
    "# num(index)(8) = 1 , freg(value)(1) = 0 \n",
    "#sorted_arr.extend([7]*0) = [0,1,2,2,3,3,4,8]"
   ]
  },
  {
   "cell_type": "code",
   "execution_count": null,
   "id": "9fcbc6c7-cdb2-4b2c-81bd-7b2062500832",
   "metadata": {},
   "outputs": [],
   "source": []
  }
 ],
 "metadata": {
  "kernelspec": {
   "display_name": "Python 3 (ipykernel)",
   "language": "python",
   "name": "python3"
  },
  "language_info": {
   "codemirror_mode": {
    "name": "ipython",
    "version": 3
   },
   "file_extension": ".py",
   "mimetype": "text/x-python",
   "name": "python",
   "nbconvert_exporter": "python",
   "pygments_lexer": "ipython3",
   "version": "3.12.3"
  }
 },
 "nbformat": 4,
 "nbformat_minor": 5
}
