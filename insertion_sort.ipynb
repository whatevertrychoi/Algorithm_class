{
 "cells": [
  {
   "cell_type": "code",
   "execution_count": 2,
   "id": "416b7fe2-c103-4a02-823b-2738bfe58785",
   "metadata": {},
   "outputs": [
    {
     "name": "stdout",
     "output_type": "stream",
     "text": [
      "[11, 12, 22, 25, 64]\n"
     ]
    }
   ],
   "source": [
    "#정렬된 배열에 하나씩 요소를 삽입하며 정렬한다.\n",
    "#새 요소를 삽입할 위치를 찾기 위해 왼쪽으로 이동한다. \n",
    "def insertion_sort(arr) :\n",
    "    n = len(arr)\n",
    "    for i in range(1, n) : \n",
    "        key = arr[i] \n",
    "        j = i - 1\n",
    "        while j >= 0 and arr[j] > key :\n",
    "            arr[j+1] = arr[j] \n",
    "            j -= 1\n",
    "        arr[j+1] = key\n",
    "\n",
    "arr = [64,25,12,22,11]\n",
    "insertion_sort(arr)\n",
    "print(arr)"
   ]
  },
  {
   "cell_type": "code",
   "execution_count": 4,
   "id": "3895f6af-5591-4863-800a-6d57220d6e19",
   "metadata": {},
   "outputs": [],
   "source": [
    "# i) n = 5, i = 1, key = 25, j = 0\n",
    "# j(0) >= 0 and arr[0] > key =25 -> arr[1] : 64 = arr[0] : 64\n",
    "# j -= 1 -> j = -1 while문 종료\n",
    "#arr[0] = key(25) -> [25,64,12,22,11]\n",
    "\n",
    "# ii) i = 2, key = 12, j = 1\n",
    "# j(1) >= 0 and arr[1] > key = 12 -> arr[2] : 12 = arr[1] : 64\n",
    "# [25,64,64,22,11] -> j-=1 -> j = 0\n",
    "# j >= 0 and arr[0]=25 > key(12)\n",
    "# arr[1] = arr[0] => [25,25,64,22,11]\n",
    "# j -= 1 -> j = -1 _> loop탈출\n",
    "# arr[0] = key(12)\n",
    "#[12,25,64,22,11]\n",
    "# .................\n",
    "\n"
   ]
  },
  {
   "cell_type": "code",
   "execution_count": null,
   "id": "a6a4469e-fba5-4a74-bb7a-ebffd9121a2f",
   "metadata": {},
   "outputs": [],
   "source": []
  }
 ],
 "metadata": {
  "kernelspec": {
   "display_name": "Python 3 (ipykernel)",
   "language": "python",
   "name": "python3"
  },
  "language_info": {
   "codemirror_mode": {
    "name": "ipython",
    "version": 3
   },
   "file_extension": ".py",
   "mimetype": "text/x-python",
   "name": "python",
   "nbconvert_exporter": "python",
   "pygments_lexer": "ipython3",
   "version": "3.12.3"
  }
 },
 "nbformat": 4,
 "nbformat_minor": 5
}
