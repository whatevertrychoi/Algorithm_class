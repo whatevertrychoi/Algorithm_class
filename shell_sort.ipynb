{
 "cells": [
  {
   "cell_type": "code",
   "execution_count": 1,
   "id": "2eb38138-96d9-479e-bb19-6c594c246ee9",
   "metadata": {},
   "outputs": [
    {
     "name": "stdout",
     "output_type": "stream",
     "text": [
      "Sorted array: [1, 2, 3, 8, 12, 23, 34, 54]\n"
     ]
    }
   ],
   "source": [
    "def shell_sort(arr):\n",
    "    n = len(arr)\n",
    "    gap = n // 2\n",
    "\n",
    "    while gap > 0:\n",
    "        for i in range(gap, n):\n",
    "            temp = arr[i]\n",
    "            j = i\n",
    "            # 삽입 정렬 방식으로 현재 간격에 따라 정렬\n",
    "            while j >= gap and arr[j - gap] > temp:\n",
    "                arr[j] = arr[j - gap]\n",
    "                j -= gap\n",
    "            arr[j] = temp\n",
    "        gap //= 2  # 간격을 반으로 줄임\n",
    "\n",
    "# 테스트\n",
    "arr = [23, 12, 1, 8, 34, 54, 2, 3]\n",
    "shell_sort(arr)\n",
    "print(\"Sorted array:\", arr)"
   ]
  },
  {
   "cell_type": "code",
   "execution_count": 2,
   "id": "da02016a-9b08-4ffd-83ab-6496a47596f2",
   "metadata": {},
   "outputs": [],
   "source": [
    "# n = 8, gap = 4\n",
    "# for i in range(4,8) \n",
    "#i = 4\n",
    "#temp = arr[4]\n",
    "#j = 4\n",
    "#while 4 >= 4 and 23 > 34 (x)\n",
    "#i = 5\n",
    "#temp = arr[5]\n",
    "#j = 5\n",
    "#while 5 >= 4 and 12 > 54 (x)\n",
    "#i = 6\n",
    "#temp = arr[6]\n",
    "#j = 6\n",
    "#while 6 >= 4 and 1 > 2 (x)\n",
    "#i = 7\n",
    "#temp = arr[7]\n",
    "#j = 7\n",
    "#while 7 >= 4 and 8 > 3 (o)\n",
    "#    arr[7] = arr[3]\n",
    "#     j(7) = j(7) - gap(4) = 3 \n",
    "#    arr[3] = arr[7] = 3\n",
    "#gap 2 ... gap 1...  gap마다 이 과정을 계속해서 반복한다."
   ]
  },
  {
   "cell_type": "code",
   "execution_count": null,
   "id": "87ba1950-0a5d-4dc1-87ed-b4dd66fa3f2d",
   "metadata": {},
   "outputs": [],
   "source": []
  }
 ],
 "metadata": {
  "kernelspec": {
   "display_name": "Python 3 (ipykernel)",
   "language": "python",
   "name": "python3"
  },
  "language_info": {
   "codemirror_mode": {
    "name": "ipython",
    "version": 3
   },
   "file_extension": ".py",
   "mimetype": "text/x-python",
   "name": "python",
   "nbconvert_exporter": "python",
   "pygments_lexer": "ipython3",
   "version": "3.12.3"
  }
 },
 "nbformat": 4,
 "nbformat_minor": 5
}
