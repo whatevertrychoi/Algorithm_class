{
 "cells": [
  {
   "cell_type": "code",
   "execution_count": 1,
   "id": "ba273c95-b71d-4ef2-a7a8-f91027a55678",
   "metadata": {},
   "outputs": [
    {
     "name": "stdout",
     "output_type": "stream",
     "text": [
      "[11, 12, 22, 25, 64]\n"
     ]
    }
   ],
   "source": [
    "#배열에서 최댓갑을 찾아 맨뒤로 이동\n",
    "def bubble_sort(arr) : \n",
    "    n = len(arr)\n",
    "    for i in range(n-1) :\n",
    "        swapped = False\n",
    "        for j in range (n-1-i) : \n",
    "            if arr[j] > arr[j+1] :  \n",
    "                arr[j], arr[j+1] = arr[j+1], arr[j]\n",
    "                swapped = True\n",
    "        if not swapped : \n",
    "            break\n",
    "\n",
    "arr = [64,25,12,22,11]\n",
    "bubble_sort(arr)\n",
    "print(arr)"
   ]
  },
  {
   "cell_type": "code",
   "execution_count": null,
   "id": "b0df6c96-23c0-45e6-a4a1-c287f4444830",
   "metadata": {},
   "outputs": [],
   "source": [
    "# i) n = 5, i = 0, j = 0 ~ 4\n",
    "# j = 0 -> arr[0] = 64 > arr[1] = 25 \n",
    "# => [25,64,12,22,11] -> swpped = true\n",
    "# j = 1 -> arr[1] = 64 > arr[2] = 12\n",
    "# => [25,12,64,22,11] -> swapped = true\n",
    "\n",
    "#.............\n",
    "# 더 이상 내부에서 교환이 발생하지 않으면 swqpped = False가 되어 반복을 중지한다."
   ]
  }
 ],
 "metadata": {
  "kernelspec": {
   "display_name": "Python 3 (ipykernel)",
   "language": "python",
   "name": "python3"
  },
  "language_info": {
   "codemirror_mode": {
    "name": "ipython",
    "version": 3
   },
   "file_extension": ".py",
   "mimetype": "text/x-python",
   "name": "python",
   "nbconvert_exporter": "python",
   "pygments_lexer": "ipython3",
   "version": "3.12.3"
  }
 },
 "nbformat": 4,
 "nbformat_minor": 5
}
