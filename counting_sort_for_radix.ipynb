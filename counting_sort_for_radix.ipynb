{
 "cells": [
  {
   "cell_type": "code",
   "execution_count": 1,
   "id": "04dbca43-58f6-451a-af2b-7db78029150b",
   "metadata": {},
   "outputs": [
    {
     "name": "stdout",
     "output_type": "stream",
     "text": [
      "Sorted array: [2, 24, 45, 66, 75, 90, 170, 802]\n"
     ]
    }
   ],
   "source": [
    "def counting_sort_for_radix(arr, exp):\n",
    "    n = len(arr)\n",
    "    output = [0] * n  # 정렬된 결과를 저장할 배열\n",
    "    count = [0] * 10  # 각 자릿수(0~9)의 빈도수 저장\n",
    "\n",
    "    # 현재 자릿수 기준으로 빈도수 계산\n",
    "    for num in arr:\n",
    "        index = (num // exp) % 10\n",
    "        count[index] += 1\n",
    "\n",
    "    # 누적 빈도수를 계산 (자리 위치 설정)\n",
    "    for i in range(1, 10):\n",
    "        count[i] += count[i - 1]\n",
    "\n",
    "    # 현재 자릿수 기준으로 숫자들을 정렬\n",
    "    for i in range(n - 1, -1, -1):  # 역순으로 탐색\n",
    "        index = (arr[i] // exp) % 10\n",
    "        output[count[index] - 1] = arr[i]  # 요청된 방식으로 변경\n",
    "        count[index] -= 1\n",
    "\n",
    "    # 정렬된 배열을 원래 배열에 복사\n",
    "    for i in range(n): \n",
    "        arr[i] = output[i]\n",
    "\n",
    "def radix_sort(arr):\n",
    "    # 배열의 최댓값을 찾음\n",
    "    max_val = max(arr)\n",
    "\n",
    "    # 각 자릿수(1의 자리, 10의 자리, ...)에 대해 Counting Sort 실행\n",
    "    exp = 1\n",
    "    while max_val // exp > 0:\n",
    "        counting_sort_for_radix(arr, exp)\n",
    "        exp *= 10\n",
    "\n",
    "# 테스트\n",
    "arr = [170, 45, 75, 90, 802, 24, 2, 66]\n",
    "radix_sort(arr)\n",
    "print(\"Sorted array:\", arr)\n"
   ]
  },
  {
   "cell_type": "code",
   "execution_count": 14,
   "id": "aa132d6a-2b1f-4f04-89bd-437d3845627d",
   "metadata": {},
   "outputs": [],
   "source": [
    "#max_val = max(arr) = 802\n",
    "#최댓값이 802이므로, 1의자리 10의자리, 100의 자리 순으로 정렬해야한다. \n",
    "#for num in arr:\n",
    "#    index = (num // exp) % 10\n",
    "#    count[index] += 1\n",
    "#exp -> 1\n",
    "#170//1 % 10 = 0 -> count[0] += 1\n",
    "#45//1 % 10 = 5 -> count[5] += 1\n",
    "#75//1 % 10 = 5 -> count[5] += 1\n",
    "#90//1 % 10 = 0 -> count[0] += 1\n",
    "#802//1 % 10 = 2 -> count[2] += 1\n",
    "#24//1 % 10 = 4 -> count[4] += 1\n",
    "#2//1 % 10 = 2 -> count[2] += 1\n",
    "#66//1 % 10 = 6 -> count[6] += 1\n",
    "#초기 count = [2,0,2,0,1,2,1,0,0,0]\n",
    "#누적 빈도수 계산\n",
    "#for i in range(1,10) : \n",
    "#    count[i] += count[i - 1]\n",
    "#count[1] = count[0] + count[1] = 2\n",
    "#count[2] = count[1] + count[2] = 4\n",
    "#count[3] = count[2] + count[3] = 4\n",
    "#count[4] = count[3] + count[4] = 5\n",
    "#count[5] = count[4] + count[5] = 7\n",
    "#count[6] = count[5] + count[6] = 8\n",
    "#count[7] = count[6] + count[7] = 8\n",
    "#count[8] = count[7] + count[8] = 8\n",
    "#count[9] = count[8] + count[9] = 8\n",
    "#수정 count = [2,2,4,4,5,7,8,8,8,8]\n",
    "#for i in range(n - 1, -1, -1):\n",
    "#   index = (arr[i] // exp) % 10\n",
    "#   output[count[index] - 1] = arr[i]\n",
    "#   count[index] -= 1\n",
    "# 66 : 1의 자리 = 6, 위치 7, ouput[7] = 66, count[6] -= 1\n",
    "#....\n",
    "#정렬된 배열(1의 자리 기준)\n",
    "#output = [170,90,802,2,24,45,75,66]\n",
    "#결과 복사 #for i in range(n):\n",
    "#               arr[i] = output[i]\n",
    "#arr = [170,90,802,2,24,45,75,66]\n",
    "#10,100자리 반복 exp = 10 -> 위의 과정을 반복한다.\n",
    "#...\n",
    "#최종 = [2, 24, 45, 66, 75, 90, 170, 802]\n",
    "\n",
    "\n",
    "\n"
   ]
  },
  {
   "cell_type": "code",
   "execution_count": null,
   "id": "8584a740-402b-4a94-be9e-f3e66da0d54f",
   "metadata": {},
   "outputs": [],
   "source": []
  }
 ],
 "metadata": {
  "kernelspec": {
   "display_name": "Python 3 (ipykernel)",
   "language": "python",
   "name": "python3"
  },
  "language_info": {
   "codemirror_mode": {
    "name": "ipython",
    "version": 3
   },
   "file_extension": ".py",
   "mimetype": "text/x-python",
   "name": "python",
   "nbconvert_exporter": "python",
   "pygments_lexer": "ipython3",
   "version": "3.12.3"
  }
 },
 "nbformat": 4,
 "nbformat_minor": 5
}
