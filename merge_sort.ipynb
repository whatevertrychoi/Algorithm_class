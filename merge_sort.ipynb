{
 "cells": [
  {
   "cell_type": "code",
   "execution_count": 1,
   "id": "9f36fee3-b8b6-42b7-8a9b-d993b2b59de8",
   "metadata": {},
   "outputs": [
    {
     "name": "stdout",
     "output_type": "stream",
     "text": [
      "Merging: left=[27], right=[43]\n",
      "Merging: left=[38], right=[27, 43]\n",
      "Merging: left=[3], right=[9]\n",
      "Merging: left=[82], right=[10]\n",
      "Merging: left=[3, 9], right=[10, 82]\n",
      "Merging: left=[27, 38, 43], right=[3, 9, 10, 82]\n",
      "Sorted array: [3, 9, 10, 27, 38, 43, 82]\n"
     ]
    }
   ],
   "source": [
    "def merge_sort(arr):\n",
    "    if len(arr) <= 1:  # 배열이 길이가 1 이하라면 더 이상 나눌 필요 없음\n",
    "        return arr\n",
    "\n",
    "    # 배열을 두 부분으로 나눔\n",
    "    mid = len(arr) // 2\n",
    "    left = merge_sort(arr[:mid])  # 왼쪽 부분 정렬\n",
    "    right = merge_sort(arr[mid:])  # 오른쪽 부분 정렬\n",
    "\n",
    "    # left와 right를 출력\n",
    "    print(f\"Merging: left={left}, right={right}\")\n",
    "    \n",
    "    # 병합하여 정렬된 배열 반환\n",
    "    return merge(left, right)\n",
    "\n",
    "def merge(left, right):\n",
    "    result = []\n",
    "    i = j = 0\n",
    "\n",
    "    # 두 배열의 요소를 비교하면서 병합\n",
    "    while i < len(left) and j < len(right):\n",
    "        if left[i] < right[j]:\n",
    "            result.append(left[i])  # 작은 값을 결과에 추가\n",
    "            i += 1\n",
    "        else:\n",
    "            result.append(right[j])  # 작은 값을 결과에 추가\n",
    "            j += 1\n",
    "\n",
    "    # 한쪽 배열의 남은 요소 추가\n",
    "    result.extend(left[i:])\n",
    "    result.extend(right[j:])\n",
    "    return result  # 병합된 배열 반환\n",
    "\n",
    "# 테스트 배열\n",
    "arr = [38, 27, 43, 3, 9, 82, 10]\n",
    "sorted_arr = merge_sort(arr)  # 정렬\n",
    "print(f\"Sorted array: {sorted_arr}\")\n"
   ]
  },
  {
   "cell_type": "code",
   "execution_count": null,
   "id": "460ecc1a-b208-4b25-bcf6-ef1846390330",
   "metadata": {},
   "outputs": [],
   "source": []
  }
 ],
 "metadata": {
  "kernelspec": {
   "display_name": "Python 3 (ipykernel)",
   "language": "python",
   "name": "python3"
  },
  "language_info": {
   "codemirror_mode": {
    "name": "ipython",
    "version": 3
   },
   "file_extension": ".py",
   "mimetype": "text/x-python",
   "name": "python",
   "nbconvert_exporter": "python",
   "pygments_lexer": "ipython3",
   "version": "3.12.3"
  }
 },
 "nbformat": 4,
 "nbformat_minor": 5
}
