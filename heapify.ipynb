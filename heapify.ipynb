{
 "cells": [
  {
   "cell_type": "code",
   "execution_count": 1,
   "id": "3c9f8995-9df2-439c-9452-65401dfe1a41",
   "metadata": {},
   "outputs": [],
   "source": [
    "#heapify는 보통 배열의 마지막 비리프 노드(자식이 있는 마지막 노드)\n",
    "#부터 루트노드까지 역방향으로 실행된다. \n",
    "#현재 노드와 자식 노드를 비교 : 현재 노드가 자식들보다 작다면\n",
    "#더 큰 자식과 현재 노드의 값을 교환한다. \n",
    "#교환 후 재귀 호출 : 자식 노드에 대해 동일한 과정을 반복한다"
   ]
  },
  {
   "cell_type": "code",
   "execution_count": 1,
   "id": "94252b82-786b-4a6d-bcdb-e9a5c33a9762",
   "metadata": {},
   "outputs": [
    {
     "name": "stdout",
     "output_type": "stream",
     "text": [
      "[11, 12, 22, 25, 64]\n"
     ]
    }
   ],
   "source": [
    "def heapify(arr, n, i) : \n",
    "    largest = i\n",
    "    left = 2*i + 1 \n",
    "    right = 2*i + 2 \n",
    "    if left < n and arr[left] > arr[largest] : \n",
    "        largest = left #자식이 부모보다 크다면 largest교환    if right < n and arr[right] > arr[largest] : \n",
    "    if right < n and arr[right] > arr[largest] :     \n",
    "        largest = right #자식이 부모보다 크다면 largest교환\n",
    "\n",
    "    if largest != i : #부모 노드가 더 큰 자식으로 교환되었다면 값을 교환한다.\n",
    "        arr[i], arr[largest] = arr[largest], arr[i]\n",
    "        heapify(arr, n, largest) #교환 후 변경된 자식 노드에 대해 heapify 재귀적 호출\n",
    "\n",
    "def heap_sort(arr) : \n",
    "    n = len(arr)\n",
    "    for i in range(n//2-1,-1,-1): #배열의 마지막 비리프 노드부터 루트까지 heapify 호출하여 힙 구조를 만든다. \n",
    "        heapify(arr,n,i)\n",
    "\n",
    "    for i in range(n-1,0,-1) : #정렬\n",
    "        arr[i], arr[0], = arr[0], arr[i]\n",
    "        heapify(arr, i, 0) # 나머지 배열에 대해 heapify를 호출하여 최대 힙 속성을 복구한다.\n",
    "\n",
    "arr = [64,25,12,22,11]\n",
    "heap_sort(arr)\n",
    "print(arr)\n",
    "\n"
   ]
  },
  {
   "cell_type": "code",
   "execution_count": 11,
   "id": "7d96487d-557c-4411-a012-a38853de50c3",
   "metadata": {},
   "outputs": [],
   "source": [
    "# def heap_sort(arr) :\n",
    "# n = 5, range(1~0, -1)-> 1~0까지 반복_ -1로 1부터 실행\n",
    "# i = 1 heapify(arr, 5, 1)\n",
    "# def heapify(arr, 5, 1)\n",
    "# largest = 1, left = 3, right = 4\n",
    "# if left(3) < n(5) and arr[left(3)](22) > arr[largest](25) : \n",
    "# -> 부모가 자식 노드보다 크므로 교환 x\n",
    "# if right(4) < n(5) and arr[right(4)](11) > arr[largest](25) : \n",
    "# -> 부모가 자식 노드보다 크므로 교환 x\n",
    "# if largest != i -> 교환했으면 실행하므로 다음 함수로 넘어감 \n",
    "# i = 0 heapify(arr, 5, 0)\n",
    "# def heapify(arr, 5, 0)\n",
    "# largest = 0, left = 1, right = 2\n",
    "# if left(1) < n(5) and arr[left(1)](25) > arr[largest](64) : \n",
    "# -> 부모가 자식 노드보다 크므로 교환 x\n",
    "# if right(2) < n(5) and arr[right(2)](12) > arr[largest](64) : \n",
    "# -> 부모가 자식 노드보다 크므로 교환 x\n",
    "# if largest != i -> 교환했으면 실행하므로 다음 함수로 넘어감 \n",
    "# 첫 번째 for문 완료 다음 for문으로 넘어감\n",
    "# for i in range(4, 0, -1)\n",
    "# arr[4], arr[0], = arr[0], arr[4]\n",
    "#[11,25,12,22,64]\n",
    "#heapify(arr,4,0) #64를 제외한 나머지(11,25,12,22)에 대해서\n",
    "#다시 max_heap으로 만든 후 정렬 \n",
    "#재귀함수를 통해 이 과정을 계속해서 반복한다. \n",
    "\n"
   ]
  },
  {
   "cell_type": "code",
   "execution_count": 1,
   "id": "1fbfc7ac-b5a6-48d2-8a37-89697cbc6bab",
   "metadata": {},
   "outputs": [
    {
     "data": {
      "text/plain": [
       "2"
      ]
     },
     "execution_count": 1,
     "metadata": {},
     "output_type": "execute_result"
    }
   ],
   "source": [
    "5//2"
   ]
  },
  {
   "cell_type": "code",
   "execution_count": null,
   "id": "a2eefe6a-5fd4-4068-a532-bb8c6da5bc69",
   "metadata": {},
   "outputs": [],
   "source": []
  }
 ],
 "metadata": {
  "kernelspec": {
   "display_name": "Python 3 (ipykernel)",
   "language": "python",
   "name": "python3"
  },
  "language_info": {
   "codemirror_mode": {
    "name": "ipython",
    "version": 3
   },
   "file_extension": ".py",
   "mimetype": "text/x-python",
   "name": "python",
   "nbconvert_exporter": "python",
   "pygments_lexer": "ipython3",
   "version": "3.12.3"
  }
 },
 "nbformat": 4,
 "nbformat_minor": 5
}
