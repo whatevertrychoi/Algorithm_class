{
 "cells": [
  {
   "cell_type": "code",
   "execution_count": 2,
   "id": "88343f32-aaaf-4a29-bed1-046fdb90ffc8",
   "metadata": {},
   "outputs": [
    {
     "name": "stdout",
     "output_type": "stream",
     "text": [
      "[11, 12, 22, 25, 64]\n"
     ]
    }
   ],
   "source": [
    "#배열에서 최댓값을 찾아 맨뒤로 이동\n",
    "def selection_sort(arr) : \n",
    "    n = len(arr)\n",
    "    for i in range(n-1,0,-1) :\n",
    "        max_idx = 0\n",
    "        for j in range (1, i+1) :\n",
    "            if arr[j] > arr[max_idx] :\n",
    "                max_idx = j\n",
    "        arr[i], arr[max_idx] = arr[max_idx], arr[i]         \n",
    "arr = [64, 25, 12, 22, 11]\n",
    "selection_sort(arr)\n",
    "\n",
    "print(arr)"
   ]
  },
  {
   "cell_type": "code",
   "execution_count": 1,
   "id": "a6caa5f7-8389-4b3b-930b-2dd8f1538630",
   "metadata": {},
   "outputs": [],
   "source": [
    "\n",
    "#첫 번째 반복(i=4)\n",
    "#max_idx = 0으로 초기화\n",
    "#j가 1-4까지 순회하며 arr[j] > arr[max_idx] 조건을 검사한다.\n",
    "#j=1 : arr[1] = 25 는 arr[0]보다 작으므로 max_idx유지\n",
    "#j=2 : arr[2] = 12 는 arr[0]보다 작으므로 max_idx유지\n",
    "#j=1 : arr[3] = 22 는 arr[0]보다 작으므로 max_idx유지\n",
    "#j=1 : arr[4] = 11 는 arr[0]보다 작으므로 max_idx유지\n",
    "#최대값 = 64(max_idx = 0)\n",
    "#교환 : arr[4]와 arr[max_idx]를 교환\n",
    "#결과 arr = [11,25,12,22,64]\n",
    "\n",
    "#두 번째 반복(i=3)\n",
    "#max_idx = 0으로 초기화\n",
    "#j가 1-3까지 순회하며 arr[j] > arr[max_idx] 조건을 검사한다.\n",
    "#j=1 : arr[1] = 25 는 arr[0]보다 크므로 max_idx = 1\n",
    "#j=2 : arr[2] = 12 는 arr[1]보다 작으므로 max_idx유지\n",
    "#j=1 : arr[3] = 22 는 arr[0]보다 작으므로 max_idx유지\n",
    "#최대값 = 25(max_idx = 1)\n",
    "#교환 : arr[3]와 arr[max_idx]를 교환\n",
    "#결과 arr = [11,22,12,25,64]\n",
    "\n",
    "#........"
   ]
  },
  {
   "cell_type": "code",
   "execution_count": null,
   "id": "7ecf9c6b-ad3e-4fa5-b235-0bd0b3ac00c3",
   "metadata": {},
   "outputs": [],
   "source": []
  }
 ],
 "metadata": {
  "kernelspec": {
   "display_name": "Python 3 (ipykernel)",
   "language": "python",
   "name": "python3"
  },
  "language_info": {
   "codemirror_mode": {
    "name": "ipython",
    "version": 3
   },
   "file_extension": ".py",
   "mimetype": "text/x-python",
   "name": "python",
   "nbconvert_exporter": "python",
   "pygments_lexer": "ipython3",
   "version": "3.12.3"
  }
 },
 "nbformat": 4,
 "nbformat_minor": 5
}
