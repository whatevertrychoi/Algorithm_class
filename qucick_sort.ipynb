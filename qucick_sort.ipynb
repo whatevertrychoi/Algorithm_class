{
 "cells": [
  {
   "cell_type": "code",
   "execution_count": 1,
   "id": "b32c82c1-eb03-49b5-9a94-0d597e65946a",
   "metadata": {},
   "outputs": [
    {
     "name": "stdout",
     "output_type": "stream",
     "text": [
      "[3, 9, 10, 27, 38, 43, 82]\n"
     ]
    }
   ],
   "source": [
    "def quick_sort(arr):\n",
    "    if len(arr) <= 1:\n",
    "        return arr\n",
    "\n",
    "    # 피벗 선택 (기본적으로 첫 번째 요소 사용)\n",
    "    pivot = arr[0]\n",
    "\n",
    "    lesser = [x for x in arr[1:] if x <= pivot]  # 피벗보다 작거나 같은 값\n",
    "    greater = [x for x in arr[1:] if x > pivot]  # 피벗보다 큰 값\n",
    "\n",
    "    # 재귀 호출 후 결과 병합\n",
    "    return quick_sort(lesser) + [pivot] + quick_sort(greater)\n",
    "\n",
    "# 예제 사용\n",
    "arr = [38, 27, 43, 3, 9, 82, 10]\n",
    "sorted_arr = quick_sort(arr)\n",
    "print(sorted_arr)\n"
   ]
  },
  {
   "cell_type": "code",
   "execution_count": null,
   "id": "a40f67f5-c290-451e-aa4d-c3c4d1610062",
   "metadata": {},
   "outputs": [],
   "source": []
  }
 ],
 "metadata": {
  "kernelspec": {
   "display_name": "Python 3 (ipykernel)",
   "language": "python",
   "name": "python3"
  },
  "language_info": {
   "codemirror_mode": {
    "name": "ipython",
    "version": 3
   },
   "file_extension": ".py",
   "mimetype": "text/x-python",
   "name": "python",
   "nbconvert_exporter": "python",
   "pygments_lexer": "ipython3",
   "version": "3.12.3"
  }
 },
 "nbformat": 4,
 "nbformat_minor": 5
}
